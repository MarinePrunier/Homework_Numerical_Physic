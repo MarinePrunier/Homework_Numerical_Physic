{
 "cells": [
  {
   "cell_type": "markdown",
   "metadata": {},
   "source": [
    "**Devoir PHYS-F-302, année académique 2019-2020** "
   ]
  },
  {
   "cell_type": "markdown",
   "metadata": {},
   "source": [
    "Soit l'équation différentielle ordre 4 linéaire à coefficients constants:\n",
    "\n",
    "$$\n",
    "\\begin{equation}\n",
    "\\frac{d^4 f}{dx^4}-5 \\frac{d^2 f}{dx^2}+ 4f = 0\n",
    "\\end{equation}\n",
    "$$\n",
    "\n",
    "où $f$ est une fonction de la variable $x\\in [0\\ 1]$. Par ailleurs, on a les conditions aux bords suivantes:\n",
    "\n",
    "$$\n",
    "\\begin{equation}\n",
    "f(0)=a, f'(0)=b, f(1)=c, f'(1)=d \n",
    "\\end{equation}\n",
    "$$\n",
    "\n",
    "La solution générale de cette équation se calcule comme ceci :\n",
    "On calcule tout d'abord le déterminant de l'équation caractéristique.\n",
    "L’équation caractéristique à résoudre est : \n",
    "$$\n",
    "\\begin{equation}\n",
    "m^2 -5m +4 = 0 \n",
    "\\end{equation}\n",
    "$$\n",
    "où m = $f^2$\n",
    "$$\n",
    "\\begin{equation}\n",
    "f = 1, -1 , -\\sqrt2 , \\sqrt2 \n",
    "\\end{equation}\n",
    "$$\n",
    "\n",
    "Les racines de ce polynôme de degré 4 serviront à déterminer un ensemble fondamental de solutions, c’est à dire un ensemble de n fonctions linéairement indépendantes. En combinant ces fonctions avec n constantes arbitraires réelles, on obtient la solution homogène cherchée.\n",
    "Alors la solution générale de l'équation (1) est \n",
    "$$\n",
    "\\begin{equation}\n",
    "f(x)= C_1 e^{x} + C_2 e^{-x}+ C_3 e^{-\\sqrt2 x}+ C_4 e^{\\sqrt2 x}\n",
    "\\end{equation}\n",
    "$$\n",
    "\n",
    "avec $C_1, C_2, C_3, C_4$ des constantes d'intégrations à évaluer par rapport aux conditions initiales. "
   ]
  },
  {
   "cell_type": "markdown",
   "metadata": {},
   "source": [
    "Pour déterminer une solution générale en fonction des conditions de bords (2) il faut résoudre un système de 4 équations à 4 inconnus $C_1, C_2, C_3, C_4$ : \n",
    "$$\n",
    "\\begin{equation}\n",
    "f(0)= C_1 + C_2 + C_3 + C_4  = 0 \n",
    "\\end{equation}\n",
    "$$\n",
    "$$\n",
    "\\begin{equation}\n",
    "f'(0)= C_1 - C_2 -\\sqrt(2)C_3 +\\sqrt(2)C_4 = 0 \n",
    "\\end{equation}\n",
    "$$\n",
    "$$\n",
    "\\begin{equation}\n",
    "f(1)= C_1 e^{1} + C_2 e^{-1}+ C_3 e^{-\\sqrt2}+ C_4 e^{\\sqrt2} = 1 \n",
    "\\end{equation}\n",
    "$$\n",
    "$$\n",
    "\\begin{equation}\n",
    "f'(1)= C_1 e^{1} + C_2 e^{-1} -\\sqrt2 C_3 e^{-\\sqrt2}+ \\sqrt2 C_4 e^{\\sqrt2} = -1 \n",
    "\\end{equation}\n",
    "$$\n",
    "\n",
    "On utilise pour cela la fonction python \"linalg.solve\" qui résoud un système d'équation linéaire"
   ]
  },
  {
   "cell_type": "code",
   "execution_count": 6,
   "metadata": {},
   "outputs": [
    {
     "name": "stdout",
     "output_type": "stream",
     "text": [
      "0.44.1\n"
     ]
    }
   ],
   "source": [
    "from matplotlib import pyplot\n",
    "import numpy as np\n",
    "from scipy import stats\n",
    "from math import *\n",
    "%matplotlib inline\n",
    "from matplotlib import rcParams\n",
    "rcParams['font.family'] = 'serif'\n",
    "rcParams['font.size'] = 16\n",
    "\n",
    "import numba\n",
    "from numba import jit\n",
    "print(numba.__version__)"
   ]
  },
  {
   "cell_type": "code",
   "execution_count": 7,
   "metadata": {},
   "outputs": [],
   "source": [
    "#Défition de la fonction solution générale de (1)\n",
    "def f(x,a,b,c,d):\n",
    "    \n",
    "    f=a*exp(x)+b*exp(-x)+c*exp(-sqrt(2)*x)+d*exp(sqrt(2)*x)\n",
    "\n",
    "    return f "
   ]
  },
  {
   "cell_type": "code",
   "execution_count": 8,
   "metadata": {},
   "outputs": [
    {
     "name": "stdout",
     "output_type": "stream",
     "text": [
      "Constantes d'intégrations : C1= 6.7169834918467695 C2= -14.848262224881811 C3= 11.690105108643984 C4= -3.55882637560894\n"
     ]
    }
   ],
   "source": [
    "#Evaluation des constantes d'intégrations pour : \n",
    "\n",
    "a=0\n",
    "b=0\n",
    "c=1\n",
    "d=-1\n",
    "\n",
    "systeme = np.array([[1,1,1,1], [1,-1,-sqrt(2),sqrt(2)], [exp(1),exp(-1),exp(-sqrt(2)),exp(sqrt(2))], [exp(1),-exp(-1),-sqrt(2)*exp(-sqrt(2)),sqrt(2)*exp(sqrt(2))]])\n",
    "inconnu = np.array([a,b,c,d])\n",
    "cst = np.linalg.solve(systeme, inconnu)\n",
    "\n",
    "print('Constantes d\\'intégrations : C1= {}'.format(cst[0]) +\n",
    "      ' C2= {}'.format(cst[1]) + \n",
    "      ' C3= {}'.format(cst[2]) + \n",
    "      ' C4= {}'.format(cst[3]))\n",
    "\n"
   ]
  },
  {
   "cell_type": "markdown",
   "metadata": {},
   "source": [
    "On évalue la fonction pour $a=0, b=0, c=1, d=-1$ et on trace $f$ en fonction de $x\\in [0\\ 1]$."
   ]
  },
  {
   "cell_type": "code",
   "execution_count": 7,
   "metadata": {},
   "outputs": [
    {
     "data": {
      "image/png": "[encoded data removed]",
      "text/plain": [
       "<Figure size 648x432 with 1 Axes>"
      ]
     },
     "metadata": {
      "needs_background": "light"
     },
     "output_type": "display_data"
    }
   ],
   "source": [
    "#On discrétise l'intervale de x comme ceci \n",
    "nx = 101  # nombre de point dans la direction x \n",
    "Lx = 1.0  # longueur du domaine dans la direction x \n",
    "\n",
    "x = np.linspace(0.0, Lx, num=nx)\n",
    "fth= np.zeros(nx)\n",
    "\n",
    "for i in range (nx) :\n",
    "    fth[i]=f(x[i],cst[0],cst[1],cst[2],cst[3])\n",
    "\n",
    "pyplot.figure(figsize=(9.0, 6.0))\n",
    "pyplot.plot(x,fth)\n",
    "pyplot.xlabel('x')\n",
    "pyplot.ylabel('f (x)')\n",
    "pyplot.grid()\n",
    "pyplot.show()"
   ]
  },
  {
   "cell_type": "markdown",
   "metadata": {},
   "source": [
    "**Gauss-Seidel**\n",
    "\n",
    "Résolution de l'équation (1) avec la méthode Gauss-Seidel. \n",
    "\n",
    "On discrétise d'abord l'équation (1) : \n",
    "Pour cela on utilise des différences finies centrées d'ordre 2 et 4 pour , on obtient:\n",
    "\n",
    "$$\n",
    "\\begin{equation}\n",
    " 0 = \\frac{f_{i-2}-4f_{i-1}+6f_{i}-4f_{i-1}+f_{i-2}}{\\Delta x^4} -5 \\frac{f_{i-1}-2f_{i}+f_{i-1}}{\\Delta x^2} + 4f_i \n",
    "\\end{equation}\n",
    "$$\n",
    "\n",
    "La méthode de Gauss Seidel diffère de celle de Jacobi dans le sens où on utilise les valeurs mises à jour de la solution dés qu'elles sont disponibles au lieu d'attendre que l'entièretée de la grille au temps soient mise à jour. \n",
    "\n",
    "Si on imagine que on progresse une droite de longueur 1 discrétisée en nx point et que on se déplace dans le temps dessus de i=0 vers i = nx, alors on peut voir les valeurs mises à jour $f^{k+1}_{i-1}$ and $f^{k+1}_{i-2}$ peuvent être utilisées pour calculer $f^{k+1}_{i}$.\n",
    "\n",
    "La formule d'itération pour Gauss-Seidel est alors:\n",
    "\n",
    "$$\n",
    "\\begin{equation}\n",
    "f^{k+1}_{i}= \\frac{1}{B} (f^{k+1}_{i-2} + f^{k}_{i+2} + C(f^{k}_{i+1}+f^{k+1}_{i-1}))\n",
    "\\end{equation}\n",
    "$$\n",
    "\n",
    "en posant \n",
    "\n",
    "$$\n",
    "\\begin{align}\n",
    " B = -6 - 10\\Delta x^2 - 4\\Delta x^4 \\\\\n",
    " C= -4 - 5\\Delta x^2\n",
    "\\end{align}\n",
    "$$\n"
   ]
  },
  {
   "cell_type": "markdown",
   "metadata": {},
   "source": [
    "On a maintenant besoin de prendre en compte les conditions au bords pour pouvoir définir les points $f_{i=1}$ et $f_{i=nx-2}$ sachant que : \n",
    "Remarque on a compté les indices de 0 à nx-1.\n",
    "\n",
    "$f(0) = f_{i=0}$ = 0 et $f(x=1) = f_{i=nx-1} = 1$\n",
    "\n",
    "Quand on effectue une approximation centrée d'ordre 2 de $f(x)$ on obtient que : \n",
    "\n",
    "$$\n",
    "\\begin{equation}\n",
    "f'(0) \\approx \\frac{f^{k+1}_{1} - f^{k+1}_{-1}}{2 \\Delta x} = 0\n",
    "\\end{equation}\n",
    "$$\n",
    "\n",
    "alors \n",
    "\n",
    "$$\n",
    "\\begin{equation}\n",
    "f^{k+1}_{-1} = f^{k+1}_{1}\n",
    "\\end{equation}\n",
    "$$\n",
    "\n",
    "et \n",
    "\n",
    "$$\n",
    "\\begin{equation}\n",
    "f'(1) \\approx \\frac{f^{k+1}_{nx-2} - f^{k+1}_{nx}}{2 \\Delta x} = -1\n",
    "\\end{equation}\n",
    "$$\n",
    "\n",
    "alors \n",
    "\n",
    "$$\n",
    "\\begin{equation}\n",
    "f^{k+1}_{nx} = f^{k+1}_{nx-2} + 2\\Delta x\n",
    "\\end{equation}\n",
    "$$\n",
    "\n",
    "On insère ces égalités dans les relations pour $f_{i=1}$ et $f_{i=-2}$ : \n",
    "\n",
    "$$\n",
    "\\begin{align}\n",
    "f^{k+1}_{i=1}= \\frac{1}{B-1} (f^{k+1}_{3} + C(f^{k}_{0}+f^{k+1}_{2})) \\\\\n",
    "f^{k+1}_{i=nx-2}= \\frac{1}{B-1} (f^{k+1}_{nx-4} + C(f^{k}_{nx-3}+f^{k+1}_{nx-1})- 2\\Delta x)\n",
    "\\end{align}\n",
    "$$"
   ]
  },
  {
   "cell_type": "markdown",
   "metadata": {},
   "source": [
    "Et on fait converger les méthodes itératives jusqu'à ce que la différence en norme L2 de deux itérations successives soit $\\leq 10^{-8}$."
   ]
  },
  {
   "cell_type": "code",
   "execution_count": 12,
   "metadata": {},
   "outputs": [],
   "source": [
    "#Différence en norme L2 entre f et fn. \n",
    "def L2_rel_erreur(f, fn):\n",
    "    \n",
    "    return np.sqrt(np.sum((f - fn)**2)/np.sum(fn**2))"
   ]
  },
  {
   "cell_type": "code",
   "execution_count": 9,
   "metadata": {},
   "outputs": [],
   "source": [
    "@jit(nopython=True)\n",
    "def gauss_seidel(f0, dx, maxiter=200000, rtol=1e-8):\n",
    "    \"\"\"\n",
    "    Résoud l'équation (1) sur une grille 1D uniforme avec espacement dx \n",
    "    en utilisant la méthode de relaxation Gauss Seidel. \n",
    "    \n",
    "    Le critère de sortie est basé sur la norme relative L2 atteignant une \n",
    "    différence entre deux itérations successives de 10^-8. \n",
    "    \n",
    "    Paramètres\n",
    "    ----------\n",
    "    f0 : numpy.ndarray\n",
    "        La solution initiale mise sous forme d'un vecteur 1D.\n",
    "    dx : float\n",
    "        Taille de l'intervalle entre deux points du vecteur x discrétisé.\n",
    "    maxiter : integer, optionnel\n",
    "        Nombre maximum d'itération à effectuer;\n",
    "        par défault: 20000.\n",
    "    rtol : float, optionnel\n",
    "        Minimum de convergence à atteindre;\n",
    "        par défault: 1e-8.\n",
    "    \n",
    "    Sortie\n",
    "    -------\n",
    "    f : numpy.ndarray\n",
    "        La solution mise sous forme d'un vecteur 1D.\n",
    "    ite : integer\n",
    "        Le nombre d'itérations effectuée.\n",
    "    diff : float\n",
    "        La différence finale en norme L2 de deux itérations successives.\n",
    "    \"\"\"\n",
    "    B= -6 - 10*dx**2 - 4*dx**4\n",
    "    C= -4 - 5*dx**2\n",
    "    nx = 101\n",
    "    conv = [] \n",
    "    f = f0.copy()\n",
    "    diff = rtol + 1.0  \n",
    "    ite = 0  \n",
    "    while diff > rtol and ite < maxiter:\n",
    "        fn = f.copy() \n",
    "        # Mise à jour de la solution aux points intérieurs \n",
    "        for i in range (2,nx-2): \n",
    "            f[i] = 1/B * (f[i-2] + f[i+2] +\n",
    "                                  C*(f[i+1] + f[i-1]))\n",
    "        \n",
    "    \n",
    "        f[1] = 1/(1-1/B)* 1/B * (C*(f[0]) + C*(f[2]) + (f[3]))\n",
    "        f[nx-2]= 1/(1-1/B)*1/B *(f[-4] + C*(f[-3]) + C*(f[-1])-2*dx)\n",
    "    \n",
    "        # Calcul de la différence en norme L2. \n",
    "        diff = np.sqrt(np.sum((f - fn)**2)/np.sum(fn**2))\n",
    "        conv.append(diff)\n",
    "        ite += 1\n",
    "        \n",
    "    return f, ite, conv"
   ]
  },
  {
   "cell_type": "markdown",
   "metadata": {},
   "source": [
    "On utilise Numba (le nopython mode ici) pour pouvoir optimiser le temps de calcul. \n",
    "\n",
    "Remarque : l'appel de la fonction L2 dans la fonction gauss seidel créé une erreur avec numba, je n'ai pas compris pourquoi mais en implémentant directement l'expression de la norme L2 de la différence dans la fonction cela compile. (pourtant ma version de numba est récente : la 44.1) \n"
   ]
  },
  {
   "cell_type": "code",
   "execution_count": 13,
   "metadata": {},
   "outputs": [
    {
     "name": "stdout",
     "output_type": "stream",
     "text": [
      "Gauss-Seidel : 1645791 iterations pour atteindre une différence en norme L2 de 9.999996024385318e-09\n"
     ]
    }
   ],
   "source": [
    "dx = Lx / (nx - 1)  # intervalle de discrétisation\n",
    "\n",
    "x = np.linspace(0.0, Lx, num=nx)\n",
    "\n",
    "# On définit une fonction initiale tel que f(0)=0 et f(1)=1\n",
    "f0 = x\n",
    "\n",
    "\n",
    "f, ites, conv_gs = gauss_seidel(f0,dx,maxiter=2000000, rtol=1e-8)\n",
    "\n",
    "print('Gauss-Seidel : {} iterations '.format(ites) +\n",
    "      'pour atteindre une différence en norme L2 de {}'.format(conv_gs[-1]))\n"
   ]
  },
  {
   "cell_type": "code",
   "execution_count": 11,
   "metadata": {},
   "outputs": [
    {
     "name": "stderr",
     "output_type": "stream",
     "text": [
      "UsageError: Line magic function `%%timeit` not found.\n"
     ]
    }
   ],
   "source": [
    "#%%timeit nous permet de déterminer le temps pris par notre fonction\n",
    "#gauss seidel pour trouver f. \n",
    "\n",
    "%%timeit\n",
    "f, ites, conv_gs = laplace_1d_gauss_seidel(f0,dx,\n",
    "                                           maxiter=200000, rtol=1e-8)"
   ]
  },
  {
   "cell_type": "code",
   "execution_count": 14,
   "metadata": {},
   "outputs": [
    {
     "data": {
      "image/png": "[encoded data removed]",
      "text/plain": [
       "<Figure size 648x432 with 1 Axes>"
      ]
     },
     "metadata": {
      "needs_background": "light"
     },
     "output_type": "display_data"
    }
   ],
   "source": [
    "#On trace la fonction obtenue et on la compare avec la solution analytique. \n",
    "\n",
    "#On trace f(x)_numérique et f(x)_analytique.\n",
    "\n",
    "pyplot.figure(figsize=(9.0, 6.0))\n",
    "pyplot.plot(x,f,label='Gauss-Seidel')\n",
    "pyplot.plot(x,fth,label='Sol analytique' )\n",
    "pyplot.xlabel('x')\n",
    "pyplot.ylabel('f (x)')\n",
    "pyplot.grid()\n",
    "pyplot.legend()\n",
    "pyplot.show()\n",
    "\n"
   ]
  },
  {
   "cell_type": "markdown",
   "metadata": {},
   "source": [
    "On peut voir la rapidité de la méthode Gaudd Seidel pour converger. \n",
    "\n",
    "Ici l'ordre de convergence est d'environ 0.64 au regard de la pente en échelle logaritmique de la différence en norme L2 en fonction du nombre d'itérations.\n",
    "\n",
    "Ce n'est pas l'algorithme le plus performant donc. "
   ]
  },
  {
   "cell_type": "code",
   "execution_count": 15,
   "metadata": {},
   "outputs": [
    {
     "name": "stderr",
     "output_type": "stream",
     "text": [
      "//anaconda3/lib/python3.7/site-packages/IPython/core/pylabtools.py:132: UserWarning: Creating legend with loc=\"best\" can be slow with large amounts of data.\n",
      "  fig.canvas.print_figure(bytes_io, **kw)\n"
     ]
    },
    {
     "data": {
      "image/png": "[encoded data removed]",
      "text/plain": [
       "<Figure size 792x432 with 1 Axes>"
      ]
     },
     "metadata": {
      "needs_background": "light"
     },
     "output_type": "display_data"
    },
    {
     "name": "stdout",
     "output_type": "stream",
     "text": [
      "-0.6413141466953611\n"
     ]
    }
   ],
   "source": [
    "ite=np.linspace(0,1645791,1645791) #itérations\n",
    "\n",
    "pyplot.figure(figsize=(11.0, 6.0))\n",
    "pyplot.loglog(ite,conv_gs,label='Convergence Gauss-Seidel')\n",
    "pyplot.ylabel('Différence en norme $L_2$ ')\n",
    "pyplot.xlabel('Itérations')\n",
    "pyplot.grid()\n",
    "pyplot.xlim(10, 1780000);\n",
    "pyplot.ylim(1e-9, 0.8e-3);\n",
    "pyplot.legend()\n",
    "pyplot.show()\n",
    "\n",
    "#Calcul de la pente sur un intervalle de la droite.\n",
    "\n",
    "slope, intercept = np.polyfit(np.log(ite[10: 100000]), np.log(conv_gs[10:100000]), 1)\n",
    "print(slope)"
   ]
  },
  {
   "cell_type": "markdown",
   "metadata": {},
   "source": [
    "**Gradient conjugué**\n",
    "\n",
    "Essayons une autre méthode, plus performante en terme de convergence en norme L2. \n",
    "On résoud l'équation (1) avec la méthode du gradient conjugué.\n"
   ]
  },
  {
   "cell_type": "markdown",
   "metadata": {},
   "source": [
    "La méthode du gradient conjugué résoud un système linéaire avec une matrice symmétrique et définie positive.\n",
    "\n",
    "L'équation différentielle discrétisée correspond au système linéaire suivant : \n",
    "\n",
    "$$\n",
    "\\begin{equation}\n",
    "A{\\bf f}={\\bf b},\n",
    "\\end{equation}\n",
    "$$\n",
    "\n",
    "où A est la matrice pour l'équation (1) discrétisée : \n",
    "\n",
    "$$\n",
    "\\begin{equation}\n",
    " \\frac{d^4 f^k}{dx^4}-5 \\frac{d^2 f^k}{dx^2}+ 4f^k = \\frac{f^k_{i-2}-4f^k_{i-1}+6f^k_{i}-4f^k_{i+1}+f^k_{i+2}}{\\Delta x^4} -5 \\frac{f^k_{i-1}-2f^k_{i}+f^k_{i+1}}{\\Delta x^2} + 4f^k_i \n",
    "\\end{equation}\n",
    "$$\n",
    "\n",
    "en posant comme précdemment \n",
    "$$\n",
    "\\begin{align}\n",
    " B = -6 - 10\\Delta x^2 - 4\\Delta x^4 \\\\\n",
    " C= -4 - 5\\Delta x^2\n",
    "\\end{align}\n",
    "$$\n",
    "\n",
    "on obtient \n",
    "\n",
    "$$\n",
    "\\begin{equation}\n",
    " A = \\begin{pmatrix}\n",
    "   1 & 0 & 0 & 0 & 0  & \\cdots & \\cdots  & 0 \\\\\n",
    "   \\frac{C}{(B-1)} & -1 & \\frac{C}{(B-1)} & \\frac{1}{(B-1)} & 0  & \\cdots & \\cdots  & 0     \\\\\n",
    "   \\frac{1}{B} & \\frac{C}{B} & -1 & \\frac{C}{B} & \\frac{1}{B} & 0 & \\ddots  &  \\vdots   \\\\\n",
    "   0      & \\frac{1}{B} & \\frac{C}{B} & -1 & \\frac{C}{B} & \\frac{1}{B} &  \\cdots &  0       \\\\\n",
    "   \\vdots & 0       &  \\frac{1}{B} & \\frac{C}{B} & -1 & \\frac{C}{B} & \\frac{1}{B} & 0  \\\\\n",
    "   0      & \\cdots  & \\ddots & 0 & \\frac{1}{(B-1)}  & \\frac{C}{(B-1)} & -1 & \\frac{C}{(B-1)}    \\\\\n",
    "   0      & \\cdots & 0 & \\cdots & 0 &  0 & 0 & 1     \\\\\n",
    "    \\end{pmatrix}\n",
    "    .\n",
    "    \\begin{pmatrix}\n",
    "     f_0 \\\\\n",
    "     f_1 \\\\\n",
    "      \\vdots\\\\\n",
    "     f_i \\\\\n",
    "      \\vdots\\\\\n",
    "      \\vdots\\\\\n",
    "     f_{nx-2} \\\\\n",
    "     f_{nx-1} \\\\\n",
    "    \\end{pmatrix}\n",
    "    = \\begin{pmatrix}\n",
    "       0 \\\\\n",
    "       0 \\\\\n",
    "       \\vdots\\\\\n",
    "       \\vdots\\\\\n",
    "       0\\\\\n",
    "        0 \\\\\n",
    "     \\frac{- 2\\Delta x}{(B-1)}\\\\\n",
    "       1 \\\\\n",
    "   \\end{pmatrix}\n",
    "\\end{equation}\n",
    "$$\n",
    "\n",
    "où $f$ est défini tel que $f_{0} = 0$ et $f_{nx-1} = -1$.\n",
    "\n",
    "$f_{1}$ et $f_{nx-2}$ sont calculées comme dans la méthode précédente : \n",
    "\n",
    "$$\n",
    "\\begin{align}\n",
    "f_{i=1}= \\frac{1}{B-1} (f_{3} + C(f_{0}+f_{2})) \\\\\n",
    "f_{i=nx-2}= \\frac{1}{B-1} (f_{nx-4} + C(f_{nx-3}+f_{nx-1})- 2\\Delta x)\n",
    "\\end{align}\n",
    "$$\n",
    "\n",
    "\n",
    "\n",
    "Chaque méthode itérative fonctionne avec une fonction initiale (guess) $\\mathbf{f}^0$, qui se trouve modifié de façon à approcher la solution. \n",
    "On peut voir cette méthode comme la modification d'un vecteur de valeur discrètes de $f$ sur la grille en additionnant un autre vecteur (faire un pas de taille $\\alpha$ dans la direction $\\mathbf{d}$ comme cela :\n",
    "\n",
    "$$\n",
    "\\begin{equation}\n",
    "{\\bf f}^{k+1}={\\bf f}^k + \\alpha {\\bf d}^k\n",
    "\\end{equation}\n",
    "$$\n",
    "\n",
    "Les itérations progressent vers la solution en faisant des pas le long des vecteurs de direction ${\\bf d}^k $, le scalaire $\\alpha$ dictant la taille d'un pas à faire à chaque itération. \n",
    "Pour converger rapidement vers la solution on choisis les vecteurs de direction et la taille des pas judicieusement.\n",
    "L'outils qu'on utilise pour trouver la bonne direction à suivre est appelé le * résiduel *.\n",
    "\n",
    "Le résiduel se calcul comme tel : \n",
    "$$\n",
    "\\begin{equation}\n",
    "{\\bf r}^k={\\bf b}-A{\\bf f}^k\n",
    "\\end{equation}\n",
    "$$\n",
    "\n",
    "À l'itération $0$, on choisit une supposition initiale, on aura:\n",
    "\n",
    "$$\n",
    "\\begin{equation}\n",
    "{\\bf b}-A{\\bf f}^0={\\bf r}^0\\ne {\\bf 0}\n",
    "\\end{equation}\n",
    "$$\n",
    "\n",
    "Le vecteur $ {\\bf r} ^ 0 $ est le résidu initial et mesure à quelle point nous sommes loin de satisfaire le système linéaire. A chaque itération il devient de plus en plus petit:\n",
    "\n",
    "$$\n",
    "\\begin{equation}\n",
    "{\\bf r}^k={\\bf b}-A{\\bf f}^k\n",
    "\\end{equation}\n",
    "$$\n",
    "\n",
    "Pour réduire le nombre de sauts en s'assurant que l'algorithme ne sélectionne jamais deux fois la même direction. La taille des sauts est désormais donnée par:\n",
    "\n",
    "$$\n",
    "\\begin{equation}\n",
    "\\alpha = \\frac{{\\bf r}^k \\cdot {\\bf r}^k}{A{\\bf d}^k \\cdot {\\bf d}^k}\n",
    "\\end{equation}\n",
    "$$\n",
    "\n",
    "et le vecteur de direction par : \n",
    "\n",
    "$$\n",
    "\\begin{equation}\n",
    "{\\bf d}^{k+1}={\\bf r}^{k+1}+\\beta{\\bf d}^{k}\n",
    "\\end{equation}\n",
    "$$\n",
    "\n",
    "où $\\beta = \\frac{{\\bf r}^{k+1} \\cdot {\\bf r}^{k+1}}{{\\bf r}^k \\cdot {\\bf r}^k}$."
   ]
  },
  {
   "cell_type": "markdown",
   "metadata": {},
   "source": [
    "L'algorithme prend donc la forme suivante : \n",
    "\n",
    "On calcule ${\\bf d}^0 = {\\bf r}^0$ une fois, puis dans la boucle d'itération : \n",
    "\n",
    "1. On calcule $\\alpha = \\frac{{\\bf r}^k \\cdot {\\bf r}^k}{A{\\bf d}^k \\cdot {\\bf d}^k}$\n",
    "2. On met à jour ${\\bf f}^{k+1}$\n",
    "3. Calcul de ${\\bf r}^{k+1} = {\\bf r}^k - \\alpha A {\\bf d}^k$\n",
    "4. Calcul de $\\beta = \\frac{{\\bf r}^{k+1} \\cdot {\\bf r}^{k+1}}{{\\bf r}^k \\cdot {\\bf r}^k}$\n",
    "5. Calcul de ${\\bf d}^{k+1}={\\bf r}^{k+1}+\\beta{\\bf d}^{k}$\n",
    "\n",
    "Et on fait converger les méthodes itératives jusqu'à ce que la différence en norme L2 de deux itérations successives soit $\\leq 10^{-8}$."
   ]
  },
  {
   "cell_type": "code",
   "execution_count": 9,
   "metadata": {},
   "outputs": [],
   "source": [
    "def conjugate_gradient(p0, b, dx,\n",
    "                                  maxiter=20000, rtol=1e-6):\n",
    "    \"\"\"\n",
    "    Résoud l'équation (1) sur une grille 1D uniforme avec espacement dx \n",
    "    en utilisant la méthode de relaxation du gradient conjugué. \n",
    "    \n",
    "    Paramètres\n",
    "    ----------\n",
    "    p0 : numpy.ndarray\n",
    "        La solution initiale mise sous forme d'un vecteur 1D.\n",
    "    b : numpy.ndarray\n",
    "        ici = 0 \n",
    "    dx : float\n",
    "        Taille de l'intervalle entre deux points du vecteur x discrétisé.\n",
    "    maxiter : integer, optionnel\n",
    "        Nombre maximum d'itération à effectuer;\n",
    "        par défault: 20000.\n",
    "    rtol : float, optionnel\n",
    "        Minimum de convergence à atteindre;\n",
    "        par défault: 1e-8.\n",
    "\n",
    "    Sortie\n",
    "    -------\n",
    "    f : numpy.ndarray\n",
    "        La solution mise sous forme d'un vecteur 1D.\n",
    "    ite : integer\n",
    "        Le nombre d'itérations effectuée.\n",
    "    conv : list\n",
    "        The convergence history as a list of floats.\n",
    "    \"\"\"\n",
    "    B= -6 - 10*dx**2 - 4*dx**4\n",
    "    C= -4 - 5*dx**2\n",
    "\n",
    "    def A(p):        \n",
    "        B= -6 - 10*dx**2 - 4*dx**4\n",
    "        C= -4 - 5*dx**2\n",
    "        Ap=np.zeros(len(p))\n",
    "        \n",
    "        Ap[2:-2]= (p[:-4] + p[4:] -4*p[1:-3] + 4*p[3:-1] + 6*p[2:-2])/dx**4 - 5*(p[1:-3] + p[3:-1] \n",
    "                    -2*p[2:-2])/dx**2 \n",
    "                    + 4*p[2:-2] \n",
    "         \n",
    "        Ap[1] = -p[1] + 1/(1-1/B)* 1/B * (C*(p[0]) + C*(p[2]) + (p[3]))\n",
    "        Ap[-2] = -p[nx-2] + 1/(1-1/B)*1/B *(p[-4] + C*(p[-3]) + C*(p[-1]))\n",
    "        Ap[-1]=1\n",
    "        Ap[0]=1        \n",
    "        return Ap    \n",
    "\n",
    "    p = p0.copy()\n",
    "    r = np.zeros_like(p)  # initial residual\n",
    "    Ad = np.zeros_like(p)  # to store the mat-vec multiplication\n",
    "    conv = []  # convergence history\n",
    "    diff = rtol + 1  # initial difference\n",
    "    ite = 0  # iteration index\n",
    "    r= b - A(p)\n",
    "    d = r.copy() #d_o=r_0 juste once \n",
    "    while diff > rtol and ite < maxiter:\n",
    "        pk = p.copy()\n",
    "        rk = r.copy()\n",
    "        # Compute the Laplacian of the search direction.\n",
    "        Ad = A(d)\n",
    "        # Compute the step size.\n",
    "        alpha = np.sum(r * r) / np.sum(d * Ad)\n",
    "        # Update the solution.\n",
    "        p = pk + alpha * d\n",
    "        # Update the residual.\n",
    "        r = rk - alpha * Ad\n",
    "        # Update the search direction.\n",
    "        beta = np.sum(r * r) / np.sum(rk * rk)\n",
    "        d = r + beta * d\n",
    "        # Dirichlet boundary conditions are automatically enforced.\n",
    "        diff = L2_rel_erreur(p, pk)\n",
    "        conv.append(diff)\n",
    "        ite += 1\n",
    "    return p, ite, conv"
   ]
  },
  {
   "cell_type": "code",
   "execution_count": 14,
   "metadata": {},
   "outputs": [
    {
     "name": "stdout",
     "output_type": "stream",
     "text": [
      "Method of conjugate gradients: 20000 iterations to reach a relative difference of 6.002515633800845e-05\n"
     ]
    }
   ],
   "source": [
    "nx = 101  # number of points in the x direction\n",
    "Lx = 1.0  # domain length in the x direction\n",
    "dx = Lx / (nx - 1)  # grid spacing in x direction\n",
    "\n",
    "# Create the gridline locations.\n",
    "x = np.linspace(0.0, Lx, num=nx)\n",
    "\n",
    "# On définit une fonction initiale tel que f(0)=0 et f(1)=1\n",
    "f0 = x\n",
    "\n",
    "B= -6 - 10*dx**2 - 4*dx**4\n",
    "# On définit b \n",
    "b=np.zeros(nx)\n",
    "b[-1]=1\n",
    "b[-2]= -2*dx*1/(B-1)\n",
    "\n",
    "# Compute the solution using the method of conjugate gradients.\n",
    "f, ites, conv_cg = conjugate_gradient(f0, b, dx,\n",
    "                                                maxiter=20000,\n",
    "                                                rtol=1e-8)\n",
    "print('Method of conjugate gradients: {} iterations '.format(ites) +\n",
    "      'to reach a relative difference of {}'.format(conv_cg[-1]))"
   ]
  },
  {
   "cell_type": "code",
   "execution_count": 15,
   "metadata": {},
   "outputs": [
    {
     "data": {
      "image/png": "[encoded data removed]",
      "text/plain": [
       "<Figure size 648x432 with 1 Axes>"
      ]
     },
     "metadata": {
      "needs_background": "light"
     },
     "output_type": "display_data"
    }
   ],
   "source": [
    "#On trace la fonction obtenue et on la compare avec la solution analytique. \n",
    "dx = Lx / (nx - 1)  # intervalle de discrétisation\n",
    "\n",
    "x = np.linspace(0.0, Lx, num=nx)\n",
    "\n",
    "#On trace f(x)_numérique et f(x)_analytique.\n",
    "\n",
    "pyplot.figure(figsize=(9.0, 6.0))\n",
    "pyplot.plot(x,f,label='Gauss-Seidel')\n",
    "#pyplot.plot(x,fth,label='Sol analytique' )\n",
    "pyplot.xlabel('x')\n",
    "pyplot.ylabel('f (x)')\n",
    "pyplot.grid()\n",
    "pyplot.legend()\n",
    "pyplot.show()"
   ]
  },
  {
   "cell_type": "code",
   "execution_count": null,
   "metadata": {},
   "outputs": [],
   "source": [
    "ite=np.linspace(0,1645791,1645791) #itérations\n",
    "\n",
    "pyplot.figure(figsize=(11.0, 6.0))\n",
    "pyplot.loglog(ite,conv_cg,label='Convergence gradient conjugué')\n",
    "pyplot.ylabel('Différence en norme $L_2$ ')\n",
    "pyplot.xlabel('Itérations')\n",
    "pyplot.grid()\n",
    "pyplot.xlim(10, 1780000);\n",
    "pyplot.ylim(1e-9, 0.8e-3);\n",
    "pyplot.legend()\n",
    "pyplot.show()\n",
    "\n",
    "#Calcul de la pente sur un intervalle de la droite.\n",
    "slope, intercept = np.polyfit(np.log(ite[10: 100000]), np.log(conv_gs[10:100000]), 1)\n",
    "print(slope)"
   ]
  }
 ],
 "metadata": {
  "kernelspec": {
   "display_name": "Python 3",
   "language": "python",
   "name": "python3"
  },
  "language_info": {
   "codemirror_mode": {
    "name": "ipython",
    "version": 3
   },
   "file_extension": ".py",
   "mimetype": "text/x-python",
   "name": "python",
   "nbconvert_exporter": "python",
   "pygments_lexer": "ipython3",
   "version": "3.7.3"
  }
 },
 "nbformat": 4,
 "nbformat_minor": 4
}
